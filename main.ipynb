{
 "cells": [
  {
   "cell_type": "markdown",
   "metadata": {},
   "source": [
    "## Attendence Management System using Face Recognition"
   ]
  },
  {
   "cell_type": "code",
   "execution_count": null,
   "metadata": {},
   "outputs": [
    {
     "data": {
      "text/plain": [
       "True"
      ]
     },
     "execution_count": 1,
     "metadata": {},
     "output_type": "execute_result"
    }
   ],
   "source": [
    "import cv2\n",
    "\n",
    "# Load an image\n",
    "image_path = \"images/week1.jpg\"\n",
    "image = cv2.imread(image_path, cv2.IMREAD_COLOR)\n",
    "\n",
    "# Resize the image\n",
    "new_width, new_height = 500, 500\n",
    "resized_image = cv2.resize(image, (new_width, new_height))\n",
    "\n",
    "# Convert the image to grayscale\n",
    "gray_image = cv2.cvtColor(resized_image, cv2.COLOR_BGR2GRAY)\n",
    "\n",
    "# Apply thresholding\n",
    "_, thresholded_image = cv2.threshold(gray_image, 127, 255, cv2.THRESH_BINARY)\n",
    "\n",
    "# Add annotations to the resized image\n",
    "annotated_image = resized_image.copy()\n",
    "text = \"OpenCV Annotation\"\n",
    "font = cv2.FONT_HERSHEY_SIMPLEX\n",
    "position = (50, 50)\n",
    "font_scale = 1\n",
    "color = (0, 255, 0)\n",
    "thickness = 2\n",
    "cv2.putText(annotated_image, text, position, font, font_scale, color, thickness)\n",
    "\n",
    "# Draw a rectangle annotation\n",
    "top_left = (100, 100)  # Top-left corner\n",
    "bottom_right = (400, 400)  # Bottom-right corner\n",
    "rectangle_color = (255, 0, 0)  # Blue color in BGR\n",
    "rectangle_thickness = 3\n",
    "cv2.rectangle(annotated_image, top_left, bottom_right, rectangle_color, rectangle_thickness)\n",
    "\n",
    "# Display the images\n",
    "cv2.imshow(\"Original Image\", image)\n",
    "cv2.imshow(\"Resized Image\", resized_image)\n",
    "cv2.imshow(\"Thresholded Image\", thresholded_image)\n",
    "cv2.imshow(\"Annotated Image\", annotated_image)\n",
    "\n",
    "# Wait for a key press and close all windows\n",
    "cv2.waitKey(0)\n",
    "cv2.destroyAllWindows()\n",
    "\n",
    "cv2.imwrite(\"images/resized_image.jpg\", resized_image)\n",
    "cv2.imwrite(\"images/thresholded_image.jpg\", thresholded_image)\n",
    "cv2.imwrite(\"images/annotated_image.jpg\", annotated_image)\n"
   ]
  }
 ],
 "metadata": {
  "kernelspec": {
   "display_name": "base",
   "language": "python",
   "name": "python3"
  },
  "language_info": {
   "codemirror_mode": {
    "name": "ipython",
    "version": 3
   },
   "file_extension": ".py",
   "mimetype": "text/x-python",
   "name": "python",
   "nbconvert_exporter": "python",
   "pygments_lexer": "ipython3",
   "version": "3.12.4"
  }
 },
 "nbformat": 4,
 "nbformat_minor": 2
}
